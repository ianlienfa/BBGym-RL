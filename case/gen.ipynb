{
 "cells": [
  {
   "cell_type": "code",
   "execution_count": 14,
   "metadata": {},
   "outputs": [],
   "source": [
    "import numpy as np"
   ]
  },
  {
   "cell_type": "code",
   "execution_count": 15,
   "metadata": {},
   "outputs": [],
   "source": [
    "size = 30\n",
    "p = np.random.randint(0, 100, size=(size,))\n",
    "r = np.random.randint(0, 100, size=(size,))\n",
    "w = np.random.randint(0, 100, size=(size,))"
   ]
  },
  {
   "cell_type": "code",
   "execution_count": 16,
   "metadata": {},
   "outputs": [
    {
     "name": "stdout",
     "output_type": "stream",
     "text": [
      "30\n",
      "21 21 59 42 49 34 14 54 87 89 19 77 31 9 1 23 83 8 71 73 19 43 60 29 25 82 41 73 63 37 \n",
      "98 91 86 20 67 81 53 14 16 91 51 74 3 20 82 67 40 33 40 37 63 55 64 21 4 49 94 11 67 25 \n",
      "28 69 73 65 74 58 5 70 73 21 72 4 80 44 26 2 73 21 70 8 1 32 9 64 76 31 31 2 18 94 \n",
      "-1\n"
     ]
    }
   ],
   "source": [
    "print(size)\n",
    "v = [p, r, w]\n",
    "for j in v:\n",
    "    for i in j:\n",
    "        print(i, end=' ')\n",
    "    print()\n",
    "print(-1)    "
   ]
  },
  {
   "cell_type": "code",
   "execution_count": null,
   "metadata": {},
   "outputs": [],
   "source": []
  }
 ],
 "metadata": {
  "interpreter": {
   "hash": "e35c5856cff72d20e6e0e19445c0d45b03888a7b19367444be448131dd51e693"
  },
  "kernelspec": {
   "display_name": "Python 3.9.10 ('ML')",
   "language": "python",
   "name": "python3"
  },
  "language_info": {
   "codemirror_mode": {
    "name": "ipython",
    "version": 3
   },
   "file_extension": ".py",
   "mimetype": "text/x-python",
   "name": "python",
   "nbconvert_exporter": "python",
   "pygments_lexer": "ipython3",
   "version": "3.9.10"
  },
  "orig_nbformat": 4
 },
 "nbformat": 4,
 "nbformat_minor": 2
}
